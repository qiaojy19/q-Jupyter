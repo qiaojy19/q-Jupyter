{
 "cells": [
  {
   "cell_type": "code",
   "execution_count": 5,
   "metadata": {
    "collapsed": false,
    "pycharm": {
     "name": "#%%\n"
    }
   },
   "outputs": [],
   "source": [
    "from my_mnist_loader import *"
   ]
  },
  {
   "cell_type": "code",
   "execution_count": 7,
   "metadata": {
    "collapsed": false,
    "pycharm": {
     "name": "#%%\n"
    }
   },
   "outputs": [
    {
     "name": "stdout",
     "output_type": "stream",
     "text": [
      "Train data shape:  (50000, 784)\n",
      "Train labels shape:  (50000,)\n",
      "Validation data shape:  (10000, 784)\n",
      "Validation labels shape:  (10000,)\n",
      "Test data shape:  (10000, 784)\n",
      "Test labels shape:  (10000,)\n"
     ]
    }
   ],
   "source": [
    "X_train, y_train, X_val, y_val, X_test, y_test = my_load_data_wrapper()\n",
    "print('Train data shape: ', X_train.shape)\n",
    "print('Train labels shape: ', y_train.shape)\n",
    "print('Validation data shape: ', X_val.shape)\n",
    "print('Validation labels shape: ', y_val.shape)\n",
    "print('Test data shape: ', X_test.shape)\n",
    "print('Test labels shape: ', y_test.shape)"
   ]
  },
  {
   "cell_type": "code",
   "execution_count": 8,
   "metadata": {
    "collapsed": false,
    "pycharm": {
     "name": "#%%\n"
    }
   },
   "outputs": [],
   "source": [
    "import matplotlib.pyplot as plt\n",
    "%matplotlib inline"
   ]
  },
  {
   "cell_type": "code",
   "execution_count": 9,
   "metadata": {},
   "outputs": [],
   "source": [
    "from torch.utils.data import Dataset, DataLoader\n",
    "class CustomDataset(Dataset):\n",
    "    def __init__(self, features, labels):\n",
    "        self.features = features\n",
    "        self.labels = labels\n",
    "\n",
    "    def __getitem__(self, index):\n",
    "        f = torch.tensor(self.features[index])\n",
    "        l = torch.tensor(self.labels[index])\n",
    "        return (f.to(device), l.to(device))\n",
    "\n",
    "    def __len__(self):\n",
    "        return len(self.labels)"
   ]
  },
  {
   "cell_type": "code",
   "execution_count": 10,
   "metadata": {},
   "outputs": [],
   "source": [
    "# Create data loader\n",
    "batch_size = 100\n",
    "train_data = CustomDataset(X_train, y_train)\n",
    "train_loader = DataLoader(dataset=train_data, batch_size=batch_size, shuffle=True)\n",
    "val_data = CustomDataset(X_val, y_val)\n",
    "val_loader = DataLoader(dataset=val_data, batch_size=batch_size, shuffle=True)\n",
    "test_data = CustomDataset(X_test, y_test)\n",
    "test_loader = DataLoader(dataset=test_data, batch_size=batch_size, shuffle=True)"
   ]
  },
  {
   "cell_type": "code",
   "execution_count": 37,
   "metadata": {},
   "outputs": [],
   "source": [
    "def evaluate(model, dataset, max_ex=0):\n",
    "    model.eval()\n",
    "    acc = 0\n",
    "    # len(dataset) 是 batch 的个数\n",
    "    for i, (features, labels) in enumerate(dataset):\n",
    "        scores = model(features)\n",
    "        # scores 是 100x10 的矩阵，10是一个样本的每个类别的归一化前的值\n",
    "        pred = torch.argmax(scores, dim=1)\n",
    "        # pred 是 100x1 的矩阵，全是类别的数字，和 labels 一样\n",
    "        # torch.eq 返回 true 或 false，sum 会把 true 的个数加起来\n",
    "        # print(torch.eq(pred, labels))\n",
    "        acc += torch.sum(torch.eq(pred, labels)).item()\n",
    "        if max_ex != 0 and i >= max_ex:\n",
    "            break\n",
    "    # print(i)\n",
    "    return (acc * 100 / ((i+1) * batch_size) )"
   ]
  },
  {
   "cell_type": "code",
   "execution_count": 34,
   "metadata": {},
   "outputs": [
    {
     "data": {
      "text/plain": [
       "tensor(2)"
      ]
     },
     "execution_count": 34,
     "metadata": {},
     "output_type": "execute_result"
    }
   ],
   "source": [
    "a = torch.Tensor([1,2,3])\n",
    "b = torch.Tensor([1,2,0])\n",
    "torch.eq(a,b)\n",
    "torch.sum(torch.eq(a,b))"
   ]
  },
  {
   "cell_type": "code",
   "execution_count": 14,
   "metadata": {},
   "outputs": [],
   "source": [
    "import torch\n",
    "import torch.nn as nn\n",
    "from torch.optim import Adam\n",
    "from models import *\n",
    "from plot_funcs import *"
   ]
  },
  {
   "cell_type": "code",
   "execution_count": 15,
   "metadata": {},
   "outputs": [],
   "source": [
    "if torch.cuda.is_available():\n",
    "    device = torch.device(\"cuda:3\")\n",
    "else:\n",
    "    device = torch.device(\"cpu\")"
   ]
  },
  {
   "cell_type": "code",
   "execution_count": 18,
   "metadata": {},
   "outputs": [],
   "source": [
    "# Create our teacher model\n",
    "big_model = linear_net().to(device)"
   ]
  },
  {
   "cell_type": "code",
   "execution_count": 19,
   "metadata": {},
   "outputs": [
    {
     "data": {
      "text/plain": [
       "linear_net(\n",
       "  (linear_1): Linear(in_features=784, out_features=1200, bias=True)\n",
       "  (relu): ReLU()\n",
       "  (dropout): Dropout(p=0.5, inplace=False)\n",
       "  (linear_2): Linear(in_features=1200, out_features=1200, bias=True)\n",
       "  (linear_3): Linear(in_features=1200, out_features=10, bias=True)\n",
       ")"
      ]
     },
     "execution_count": 19,
     "metadata": {},
     "output_type": "execute_result"
    }
   ],
   "source": [
    "# Load our pre-trained teacher model\n",
    "load_path = \"teacher_linear_model/\"\n",
    "checkpoint = torch.load(load_path + \"modelo\")\n",
    "big_model.load_state_dict(checkpoint['model_state_dict'])\n",
    "big_model.eval()"
   ]
  },
  {
   "cell_type": "code",
   "execution_count": 40,
   "metadata": {},
   "outputs": [
    {
     "name": "stdout",
     "output_type": "stream",
     "text": [
      "\n",
      "Train accuracy: 99.66%\n",
      "Validation accuracy: 98.18%\n",
      "Test accuracy: 97.84%\n"
     ]
    }
   ],
   "source": [
    "train_acc = evaluate(big_model, train_loader)\n",
    "print(\"\\nTrain accuracy: %.2f%%\" % train_acc)\n",
    "val_acc = evaluate(big_model,val_loader)\n",
    "print(\"Validation accuracy: %.2f%%\" % val_acc)\n",
    "test_acc = evaluate(big_model, test_loader)\n",
    "print(\"Test accuracy: %.2f%%\" % test_acc)"
   ]
  },
  {
   "cell_type": "code",
   "execution_count": 29,
   "metadata": {},
   "outputs": [],
   "source": [
    "# Create our student model\n",
    "small_model = small_linear_net().to(device)"
   ]
  },
  {
   "cell_type": "code",
   "execution_count": 30,
   "metadata": {},
   "outputs": [
    {
     "data": {
      "text/plain": [
       "small_linear_net(\n",
       "  (linear_1): Linear(in_features=784, out_features=50, bias=True)\n",
       "  (relu): ReLU()\n",
       "  (linear_2): Linear(in_features=50, out_features=10, bias=True)\n",
       ")"
      ]
     },
     "execution_count": 30,
     "metadata": {},
     "output_type": "execute_result"
    }
   ],
   "source": [
    "# Load our pre-trained student model\n",
    "# This is just if you want to check the accuracy of this model\n",
    "# trained with the original MNIST data\n",
    "load_path = \"small_linear_model/\"\n",
    "checkpoint = torch.load(load_path + \"modelo\")\n",
    "small_model.load_state_dict(checkpoint['model_state_dict'])\n",
    "small_model.eval()"
   ]
  },
  {
   "cell_type": "code",
   "execution_count": 38,
   "metadata": {},
   "outputs": [
    {
     "name": "stdout",
     "output_type": "stream",
     "text": [
      "\n",
      "Train accuracy: 99.27%\n",
      "Validation accuracy: 96.92%\n",
      "Test accuracy: 96.71%\n"
     ]
    }
   ],
   "source": [
    "train_acc = evaluate(small_model, train_loader)\n",
    "print(\"\\nTrain accuracy: %.2f%%\" % train_acc)\n",
    "val_acc = evaluate(small_model,val_loader)\n",
    "print(\"Validation accuracy: %.2f%%\" % val_acc)\n",
    "test_acc = evaluate(small_model, test_loader)\n",
    "print(\"Test accuracy: %.2f%%\" % test_acc)"
   ]
  },
  {
   "cell_type": "code",
   "execution_count": 43,
   "metadata": {},
   "outputs": [],
   "source": [
    "### Define our custom loss function\n",
    "softmax_op = nn.Softmax(dim=1)\n",
    "mseloss_fn = nn.MSELoss()\n",
    "\n",
    "# default: T=5\n",
    "def my_loss(scores, targets, T=5):\n",
    "    soft_pred = softmax_op(scores / T)\n",
    "    soft_targets = softmax_op(targets / T)\n",
    "    loss = mseloss_fn(soft_pred, soft_targets)\n",
    "    return loss"
   ]
  },
  {
   "cell_type": "code",
   "execution_count": 52,
   "metadata": {},
   "outputs": [
    {
     "name": "stderr",
     "output_type": "stream",
     "text": [
      "100%|██████████| 500/500 [00:45<00:00, 10.89it/s]\n",
      "100%|██████████| 500/500 [00:46<00:00, 10.85it/s]\n",
      "100%|██████████| 500/500 [00:45<00:00, 10.89it/s]\n",
      "100%|██████████| 500/500 [00:46<00:00, 10.84it/s]\n",
      "100%|██████████| 500/500 [00:45<00:00, 10.89it/s]\n"
     ]
    },
    {
     "data": {
      "image/png": "[encoded data removed]",
      "text/plain": [
       "<Figure size 800x400 with 1 Axes>"
      ]
     },
     "metadata": {
      "needs_background": "light"
     },
     "output_type": "display_data"
    }
   ],
   "source": [
    "# Create a new student model to start training from zero\n",
    "small_model = small_linear_net().to(device)\n",
    "from tqdm import tqdm\n",
    "%matplotlib inline\n",
    "\n",
    "# Hyperparameters\n",
    "lr = 5e-3\n",
    "epochs = 5\n",
    "temp = 1\n",
    "it = 0\n",
    "# Create optimizer\n",
    "optimizer = Adam(small_model.parameters(), lr=lr)\n",
    "val_acc = []\n",
    "train_acc = []\n",
    "train_loss = [0]  # loss at iteration 0\n",
    "for epoch in range(epochs):\n",
    "    for features, labels in tqdm(train_loader):\n",
    "        small_model.train()\n",
    "        scores = small_model(features)\n",
    "        targets = big_model(features)\n",
    "        loss = my_loss(scores, targets, T = temp)\n",
    "        optimizer.zero_grad()\n",
    "        loss.backward()\n",
    "        optimizer.step()\n",
    "        # Book-keeping\n",
    "        if it % 100 == 0:\n",
    "            train_acc.append(evaluate(small_model, train_loader, max_ex=100))\n",
    "            val_acc.append(evaluate(small_model, val_loader))\n",
    "        it += 1\n",
    "#perform last book-keeping\n",
    "train_acc.append(evaluate(small_model, train_loader, max_ex=100))\n",
    "val_acc.append(evaluate(small_model, val_loader))\n",
    "plot_acc(train_acc, val_acc, it, it_per_epoch=0)"
   ]
  },
  {
   "cell_type": "code",
   "execution_count": 51,
   "metadata": {},
   "outputs": [
    {
     "name": "stdout",
     "output_type": "stream",
     "text": [
      "26\n",
      "26\n"
     ]
    }
   ],
   "source": [
    "print(len(train_acc))\n",
    "print(len(val_acc))"
   ]
  },
  {
   "cell_type": "code",
   "execution_count": 53,
   "metadata": {},
   "outputs": [
    {
     "name": "stdout",
     "output_type": "stream",
     "text": [
      "\n",
      "Train accuracy: 97.35%\n",
      "Validation accuracy: 96.37%\n",
      "Test accuracy: 96.59%\n"
     ]
    }
   ],
   "source": [
    "train_acc = evaluate(small_model, train_loader)\n",
    "print(\"\\nTrain accuracy: %.2f%%\" % train_acc)\n",
    "val_acc = evaluate(small_model,val_loader)\n",
    "print(\"Validation accuracy: %.2f%%\" % val_acc)\n",
    "test_acc = evaluate(small_model, test_loader)\n",
    "print(\"Test accuracy: %.2f%%\" % test_acc)"
   ]
  },
  {
   "cell_type": "code",
   "execution_count": null,
   "metadata": {},
   "outputs": [],
   "source": []
  }
 ],
 "metadata": {
  "interpreter": {
   "hash": "35033cad3aad510172903d36c0cbaff4bce9cf6615543ddd5b1706762055e814"
  },
  "kernelspec": {
   "display_name": "Python 3.8.13 ('tian_g0')",
   "language": "python",
   "name": "python3"
  },
  "language_info": {
   "codemirror_mode": {
    "name": "ipython",
    "version": 3
   },
   "file_extension": ".py",
   "mimetype": "text/x-python",
   "name": "python",
   "nbconvert_exporter": "python",
   "pygments_lexer": "ipython3",
   "version": "3.8.13"
  }
 },
 "nbformat": 4,
 "nbformat_minor": 0
}
